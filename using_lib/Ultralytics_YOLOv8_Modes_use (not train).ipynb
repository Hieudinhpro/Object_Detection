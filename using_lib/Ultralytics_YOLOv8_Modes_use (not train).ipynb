{
  "nbformat": 4,
  "nbformat_minor": 0,
  "metadata": {
    "colab": {
      "provenance": []
    },
    "kernelspec": {
      "name": "python3",
      "display_name": "Python 3"
    },
    "language_info": {
      "name": "python"
    }
  },
  "cells": [
    {
      "cell_type": "markdown",
      "source": [
        "# Usage Examples"
      ],
      "metadata": {
        "id": "acdZz3sbiq9S"
      }
    },
    {
      "cell_type": "code",
      "source": [
        "!pip install ultralytics"
      ],
      "metadata": {
        "colab": {
          "base_uri": "https://localhost:8080/"
        },
        "id": "1kmUdSPbjAA1",
        "outputId": "be5f6906-078c-4fe1-c04c-0b1454a1e1c1"
      },
      "execution_count": 2,
      "outputs": [
        {
          "output_type": "stream",
          "name": "stdout",
          "text": [
            "Looking in indexes: https://pypi.org/simple, https://us-python.pkg.dev/colab-wheels/public/simple/\n",
            "Collecting ultralytics\n",
            "  Downloading ultralytics-8.0.112-py3-none-any.whl (593 kB)\n",
            "\u001b[2K     \u001b[90m━━━━━━━━━━━━━━━━━━━━━━━━━━━━━━━━━━━━━━\u001b[0m \u001b[32m593.1/593.1 kB\u001b[0m \u001b[31m36.0 MB/s\u001b[0m eta \u001b[36m0:00:00\u001b[0m\n",
            "\u001b[?25hRequirement already satisfied: matplotlib>=3.2.2 in /usr/local/lib/python3.10/dist-packages (from ultralytics) (3.7.1)\n",
            "Requirement already satisfied: opencv-python>=4.6.0 in /usr/local/lib/python3.10/dist-packages (from ultralytics) (4.7.0.72)\n",
            "Requirement already satisfied: Pillow>=7.1.2 in /usr/local/lib/python3.10/dist-packages (from ultralytics) (8.4.0)\n",
            "Requirement already satisfied: PyYAML>=5.3.1 in /usr/local/lib/python3.10/dist-packages (from ultralytics) (6.0)\n",
            "Requirement already satisfied: requests>=2.23.0 in /usr/local/lib/python3.10/dist-packages (from ultralytics) (2.27.1)\n",
            "Requirement already satisfied: scipy>=1.4.1 in /usr/local/lib/python3.10/dist-packages (from ultralytics) (1.10.1)\n",
            "Requirement already satisfied: torch>=1.7.0 in /usr/local/lib/python3.10/dist-packages (from ultralytics) (2.0.1+cu118)\n",
            "Requirement already satisfied: torchvision>=0.8.1 in /usr/local/lib/python3.10/dist-packages (from ultralytics) (0.15.2+cu118)\n",
            "Requirement already satisfied: tqdm>=4.64.0 in /usr/local/lib/python3.10/dist-packages (from ultralytics) (4.65.0)\n",
            "Requirement already satisfied: pandas>=1.1.4 in /usr/local/lib/python3.10/dist-packages (from ultralytics) (1.5.3)\n",
            "Requirement already satisfied: seaborn>=0.11.0 in /usr/local/lib/python3.10/dist-packages (from ultralytics) (0.12.2)\n",
            "Requirement already satisfied: psutil in /usr/local/lib/python3.10/dist-packages (from ultralytics) (5.9.5)\n",
            "Requirement already satisfied: contourpy>=1.0.1 in /usr/local/lib/python3.10/dist-packages (from matplotlib>=3.2.2->ultralytics) (1.0.7)\n",
            "Requirement already satisfied: cycler>=0.10 in /usr/local/lib/python3.10/dist-packages (from matplotlib>=3.2.2->ultralytics) (0.11.0)\n",
            "Requirement already satisfied: fonttools>=4.22.0 in /usr/local/lib/python3.10/dist-packages (from matplotlib>=3.2.2->ultralytics) (4.39.3)\n",
            "Requirement already satisfied: kiwisolver>=1.0.1 in /usr/local/lib/python3.10/dist-packages (from matplotlib>=3.2.2->ultralytics) (1.4.4)\n",
            "Requirement already satisfied: numpy>=1.20 in /usr/local/lib/python3.10/dist-packages (from matplotlib>=3.2.2->ultralytics) (1.22.4)\n",
            "Requirement already satisfied: packaging>=20.0 in /usr/local/lib/python3.10/dist-packages (from matplotlib>=3.2.2->ultralytics) (23.1)\n",
            "Requirement already satisfied: pyparsing>=2.3.1 in /usr/local/lib/python3.10/dist-packages (from matplotlib>=3.2.2->ultralytics) (3.0.9)\n",
            "Requirement already satisfied: python-dateutil>=2.7 in /usr/local/lib/python3.10/dist-packages (from matplotlib>=3.2.2->ultralytics) (2.8.2)\n",
            "Requirement already satisfied: pytz>=2020.1 in /usr/local/lib/python3.10/dist-packages (from pandas>=1.1.4->ultralytics) (2022.7.1)\n",
            "Requirement already satisfied: urllib3<1.27,>=1.21.1 in /usr/local/lib/python3.10/dist-packages (from requests>=2.23.0->ultralytics) (1.26.15)\n",
            "Requirement already satisfied: certifi>=2017.4.17 in /usr/local/lib/python3.10/dist-packages (from requests>=2.23.0->ultralytics) (2022.12.7)\n",
            "Requirement already satisfied: charset-normalizer~=2.0.0 in /usr/local/lib/python3.10/dist-packages (from requests>=2.23.0->ultralytics) (2.0.12)\n",
            "Requirement already satisfied: idna<4,>=2.5 in /usr/local/lib/python3.10/dist-packages (from requests>=2.23.0->ultralytics) (3.4)\n",
            "Requirement already satisfied: filelock in /usr/local/lib/python3.10/dist-packages (from torch>=1.7.0->ultralytics) (3.12.0)\n",
            "Requirement already satisfied: typing-extensions in /usr/local/lib/python3.10/dist-packages (from torch>=1.7.0->ultralytics) (4.5.0)\n",
            "Requirement already satisfied: sympy in /usr/local/lib/python3.10/dist-packages (from torch>=1.7.0->ultralytics) (1.11.1)\n",
            "Requirement already satisfied: networkx in /usr/local/lib/python3.10/dist-packages (from torch>=1.7.0->ultralytics) (3.1)\n",
            "Requirement already satisfied: jinja2 in /usr/local/lib/python3.10/dist-packages (from torch>=1.7.0->ultralytics) (3.1.2)\n",
            "Requirement already satisfied: triton==2.0.0 in /usr/local/lib/python3.10/dist-packages (from torch>=1.7.0->ultralytics) (2.0.0)\n",
            "Requirement already satisfied: cmake in /usr/local/lib/python3.10/dist-packages (from triton==2.0.0->torch>=1.7.0->ultralytics) (3.25.2)\n",
            "Requirement already satisfied: lit in /usr/local/lib/python3.10/dist-packages (from triton==2.0.0->torch>=1.7.0->ultralytics) (16.0.5)\n",
            "Requirement already satisfied: six>=1.5 in /usr/local/lib/python3.10/dist-packages (from python-dateutil>=2.7->matplotlib>=3.2.2->ultralytics) (1.16.0)\n",
            "Requirement already satisfied: MarkupSafe>=2.0 in /usr/local/lib/python3.10/dist-packages (from jinja2->torch>=1.7.0->ultralytics) (2.1.2)\n",
            "Requirement already satisfied: mpmath>=0.19 in /usr/local/lib/python3.10/dist-packages (from sympy->torch>=1.7.0->ultralytics) (1.3.0)\n",
            "Installing collected packages: ultralytics\n",
            "Successfully installed ultralytics-8.0.112\n"
          ]
        }
      ]
    },
    {
      "cell_type": "markdown",
      "source": [
        "# Train YOLOv8n on the COCO128 dataset for 100 epochs at image size 640. See Arguments section below for a full list of training arguments."
      ],
      "metadata": {
        "id": "C8jbWOZmixDo"
      }
    },
    {
      "cell_type": "code",
      "execution_count": 4,
      "metadata": {
        "colab": {
          "base_uri": "https://localhost:8080/"
        },
        "id": "VipWzxVQiTfK",
        "outputId": "9308bbbd-cf39-4451-b860-67501e828e97"
      },
      "outputs": [
        {
          "output_type": "stream",
          "name": "stderr",
          "text": [
            "Ultralytics YOLOv8.0.112 🚀 Python-3.10.11 torch-2.0.1+cu118 CPU\n",
            "\u001b[34m\u001b[1myolo/engine/trainer: \u001b[0mtask=detect, mode=train, model=yolov8n.pt, data=coco128.yaml, epochs=1, patience=50, batch=16, imgsz=640, save=True, save_period=-1, cache=False, device=None, workers=8, project=None, name=None, exist_ok=False, pretrained=False, optimizer=SGD, verbose=True, seed=0, deterministic=True, single_cls=False, rect=False, cos_lr=False, close_mosaic=0, resume=False, amp=True, fraction=1.0, profile=False, overlap_mask=True, mask_ratio=4, dropout=0.0, val=True, split=val, save_json=False, save_hybrid=False, conf=None, iou=0.7, max_det=300, half=False, dnn=False, plots=True, source=None, show=False, save_txt=False, save_conf=False, save_crop=False, show_labels=True, show_conf=True, vid_stride=1, line_width=None, visualize=False, augment=False, agnostic_nms=False, classes=None, retina_masks=False, boxes=True, format=torchscript, keras=False, optimize=False, int8=False, dynamic=False, simplify=False, opset=None, workspace=4, nms=False, lr0=0.01, lrf=0.01, momentum=0.937, weight_decay=0.0005, warmup_epochs=3.0, warmup_momentum=0.8, warmup_bias_lr=0.1, box=7.5, cls=0.5, dfl=1.5, pose=12.0, kobj=1.0, label_smoothing=0.0, nbs=64, hsv_h=0.015, hsv_s=0.7, hsv_v=0.4, degrees=0.0, translate=0.1, scale=0.5, shear=0.0, perspective=0.0, flipud=0.0, fliplr=0.5, mosaic=1.0, mixup=0.0, copy_paste=0.0, cfg=None, v5loader=False, tracker=botsort.yaml, save_dir=runs/detect/train2\n",
            "\n",
            "                   from  n    params  module                                       arguments                     \n",
            "  0                  -1  1       464  ultralytics.nn.modules.conv.Conv             [3, 16, 3, 2]                 \n",
            "  1                  -1  1      4672  ultralytics.nn.modules.conv.Conv             [16, 32, 3, 2]                \n",
            "  2                  -1  1      7360  ultralytics.nn.modules.block.C2f             [32, 32, 1, True]             \n",
            "  3                  -1  1     18560  ultralytics.nn.modules.conv.Conv             [32, 64, 3, 2]                \n",
            "  4                  -1  2     49664  ultralytics.nn.modules.block.C2f             [64, 64, 2, True]             \n",
            "  5                  -1  1     73984  ultralytics.nn.modules.conv.Conv             [64, 128, 3, 2]               \n",
            "  6                  -1  2    197632  ultralytics.nn.modules.block.C2f             [128, 128, 2, True]           \n",
            "  7                  -1  1    295424  ultralytics.nn.modules.conv.Conv             [128, 256, 3, 2]              \n",
            "  8                  -1  1    460288  ultralytics.nn.modules.block.C2f             [256, 256, 1, True]           \n",
            "  9                  -1  1    164608  ultralytics.nn.modules.block.SPPF            [256, 256, 5]                 \n",
            " 10                  -1  1         0  torch.nn.modules.upsampling.Upsample         [None, 2, 'nearest']          \n",
            " 11             [-1, 6]  1         0  ultralytics.nn.modules.conv.Concat           [1]                           \n",
            " 12                  -1  1    148224  ultralytics.nn.modules.block.C2f             [384, 128, 1]                 \n",
            " 13                  -1  1         0  torch.nn.modules.upsampling.Upsample         [None, 2, 'nearest']          \n",
            " 14             [-1, 4]  1         0  ultralytics.nn.modules.conv.Concat           [1]                           \n",
            " 15                  -1  1     37248  ultralytics.nn.modules.block.C2f             [192, 64, 1]                  \n",
            " 16                  -1  1     36992  ultralytics.nn.modules.conv.Conv             [64, 64, 3, 2]                \n",
            " 17            [-1, 12]  1         0  ultralytics.nn.modules.conv.Concat           [1]                           \n",
            " 18                  -1  1    123648  ultralytics.nn.modules.block.C2f             [192, 128, 1]                 \n",
            " 19                  -1  1    147712  ultralytics.nn.modules.conv.Conv             [128, 128, 3, 2]              \n",
            " 20             [-1, 9]  1         0  ultralytics.nn.modules.conv.Concat           [1]                           \n",
            " 21                  -1  1    493056  ultralytics.nn.modules.block.C2f             [384, 256, 1]                 \n",
            " 22        [15, 18, 21]  1    897664  ultralytics.nn.modules.head.Detect           [80, [64, 128, 256]]          \n",
            "Model summary: 225 layers, 3157200 parameters, 3157184 gradients\n",
            "\n",
            "Transferred 355/355 items from pretrained weights\n",
            "\u001b[34m\u001b[1mTensorBoard: \u001b[0mStart with 'tensorboard --logdir runs/detect/train2', view at http://localhost:6006/\n",
            "\u001b[34m\u001b[1moptimizer:\u001b[0m SGD(lr=0.01) with parameter groups 57 weight(decay=0.0), 64 weight(decay=0.0005), 63 bias\n",
            "\u001b[34m\u001b[1mtrain: \u001b[0mScanning /content/datasets/coco128/labels/train2017.cache... 126 images, 2 backgrounds, 0 corrupt: 100%|██████████| 128/128 [00:00<?, ?it/s]\n",
            "\u001b[34m\u001b[1malbumentations: \u001b[0mBlur(p=0.01, blur_limit=(3, 7)), MedianBlur(p=0.01, blur_limit=(3, 7)), ToGray(p=0.01), CLAHE(p=0.01, clip_limit=(1, 4.0), tile_grid_size=(8, 8))\n",
            "\u001b[34m\u001b[1mval: \u001b[0mScanning /content/datasets/coco128/labels/train2017.cache... 126 images, 2 backgrounds, 0 corrupt: 100%|██████████| 128/128 [00:00<?, ?it/s]\n",
            "Plotting labels to runs/detect/train2/labels.jpg... \n",
            "Image sizes 640 train, 640 val\n",
            "Using 0 dataloader workers\n",
            "Logging results to \u001b[1mruns/detect/train2\u001b[0m\n",
            "Starting training for 1 epochs...\n",
            "\n",
            "      Epoch    GPU_mem   box_loss   cls_loss   dfl_loss  Instances       Size\n",
            "        1/1         0G      1.163      1.451      1.242        294        640: 100%|██████████| 8/8 [01:14<00:00,  9.30s/it]\n",
            "                 Class     Images  Instances      Box(P          R      mAP50  mAP50-95): 100%|██████████| 4/4 [00:25<00:00,  6.42s/it]\n",
            "                   all        128        929      0.642      0.559       0.62      0.459\n",
            "\n",
            "1 epochs completed in 0.029 hours.\n",
            "Optimizer stripped from runs/detect/train2/weights/last.pt, 6.5MB\n",
            "Optimizer stripped from runs/detect/train2/weights/best.pt, 6.5MB\n",
            "\n",
            "Validating runs/detect/train2/weights/best.pt...\n",
            "Ultralytics YOLOv8.0.112 🚀 Python-3.10.11 torch-2.0.1+cu118 CPU\n",
            "Model summary (fused): 168 layers, 3151904 parameters, 0 gradients\n",
            "                 Class     Images  Instances      Box(P          R      mAP50  mAP50-95): 100%|██████████| 4/4 [00:22<00:00,  5.55s/it]\n",
            "                   all        128        929      0.642      0.559       0.62      0.459\n",
            "                person        128        254      0.794      0.681      0.775      0.542\n",
            "               bicycle        128          6      0.489      0.333      0.323      0.266\n",
            "                   car        128         46       0.87      0.217      0.286      0.175\n",
            "            motorcycle        128          5      0.695      0.918      0.938      0.709\n",
            "              airplane        128          6      0.762      0.833      0.903      0.677\n",
            "                   bus        128          7      0.548      0.714      0.722      0.669\n",
            "                 train        128          3       0.51      0.667      0.775      0.722\n",
            "                 truck        128         12      0.972      0.417       0.51      0.323\n",
            "                  boat        128          6      0.257      0.167      0.381      0.264\n",
            "         traffic light        128         14      0.746      0.211      0.202      0.139\n",
            "             stop sign        128          2          1      0.964      0.995      0.714\n",
            "                 bench        128          9       0.82       0.51      0.628      0.361\n",
            "                  bird        128         16      0.923      0.748      0.898      0.535\n",
            "                   cat        128          4      0.843          1      0.995       0.76\n",
            "                   dog        128          9      0.687      0.889      0.806      0.579\n",
            "                 horse        128          2      0.683          1      0.995      0.498\n",
            "              elephant        128         17      0.857      0.882      0.926       0.69\n",
            "                  bear        128          1      0.606          1      0.995      0.995\n",
            "                 zebra        128          4      0.849          1      0.995      0.965\n",
            "               giraffe        128          9      0.698      0.889      0.949      0.701\n",
            "              backpack        128          6      0.563      0.333      0.381       0.23\n",
            "              umbrella        128         18      0.819      0.556      0.652      0.449\n",
            "               handbag        128         19      0.571      0.075      0.186     0.0963\n",
            "                   tie        128          7      0.684      0.714      0.653      0.492\n",
            "              suitcase        128          4      0.645          1      0.828      0.613\n",
            "               frisbee        128          5      0.593        0.8      0.759      0.664\n",
            "                  skis        128          1      0.617          1      0.995      0.497\n",
            "             snowboard        128          7      0.602      0.714      0.735      0.551\n",
            "           sports ball        128          6      0.737      0.474      0.515      0.297\n",
            "                  kite        128         10      0.814      0.443      0.557      0.196\n",
            "          baseball bat        128          4      0.565        0.5      0.414      0.199\n",
            "        baseball glove        128          7      0.585      0.429      0.429      0.274\n",
            "            skateboard        128          5      0.757        0.6        0.6      0.426\n",
            "         tennis racket        128          7      0.502      0.286      0.465      0.319\n",
            "                bottle        128         18       0.45      0.364      0.374      0.234\n",
            "            wine glass        128         16      0.747        0.5      0.617      0.341\n",
            "                   cup        128         36      0.707      0.278      0.402       0.28\n",
            "                  fork        128          6      0.531      0.167       0.23      0.177\n",
            "                 knife        128         16      0.641        0.5      0.619      0.382\n",
            "                 spoon        128         22      0.646       0.25      0.372      0.217\n",
            "                  bowl        128         28      0.596      0.679      0.631      0.523\n",
            "                banana        128          1          0          0      0.166     0.0428\n",
            "              sandwich        128          2      0.271        0.5       0.39       0.39\n",
            "                orange        128          4          1      0.378      0.995      0.623\n",
            "              broccoli        128         11      0.473      0.248      0.276      0.225\n",
            "                carrot        128         24       0.63      0.583      0.683      0.429\n",
            "               hot dog        128          2      0.322        0.5      0.695      0.675\n",
            "                 pizza        128          5      0.754          1      0.995      0.839\n",
            "                 donut        128         14      0.646          1       0.94      0.855\n",
            "                  cake        128          4      0.765          1      0.995      0.877\n",
            "                 chair        128         35      0.414      0.486      0.443       0.26\n",
            "                 couch        128          6      0.341      0.346      0.642      0.481\n",
            "          potted plant        128         14      0.736      0.643      0.719      0.481\n",
            "                   bed        128          3      0.765      0.667      0.764      0.622\n",
            "          dining table        128         13      0.419      0.615       0.49      0.402\n",
            "                toilet        128          2      0.592        0.5      0.586      0.578\n",
            "                    tv        128          2      0.568      0.704      0.828      0.713\n",
            "                laptop        128          3          1      0.473      0.736      0.582\n",
            "                 mouse        128          2          1          0     0.0488    0.00487\n",
            "                remote        128          8      0.734        0.5      0.564       0.49\n",
            "            cell phone        128          8          0          0     0.0674     0.0391\n",
            "             microwave        128          3      0.594          1      0.863      0.752\n",
            "                  oven        128          5      0.387        0.4       0.34       0.27\n",
            "                  sink        128          6      0.323      0.167      0.198      0.143\n",
            "          refrigerator        128          5      0.524      0.447      0.626      0.509\n",
            "                  book        128         29      0.619      0.103      0.338      0.173\n",
            "                 clock        128          9      0.795      0.862      0.875      0.696\n",
            "                  vase        128          2      0.335          1      0.828      0.795\n",
            "              scissors        128          1          1          0      0.199     0.0597\n",
            "            teddy bear        128         21      0.887      0.374      0.607      0.401\n",
            "            toothbrush        128          5      0.699      0.477      0.727      0.442\n",
            "Speed: 2.7ms preprocess, 152.2ms inference, 0.0ms loss, 1.4ms postprocess per image\n",
            "Results saved to \u001b[1mruns/detect/train2\u001b[0m\n"
          ]
        }
      ],
      "source": [
        "from ultralytics import YOLO\n",
        "\n",
        "# Load a model\n",
        "# model = YOLO('yolov8n.yaml')  # build a new model from YAML\n",
        "model = YOLO('yolov8n.pt')  # load a pretrained model (recommended for training)\n",
        "# model = YOLO('yolov8n.yaml').load('yolov8n.pt')  # build from YAML and transfer weights\n",
        "\n",
        "# Train the model\n",
        "model.train(data='coco128.yaml', epochs=1, imgsz=640)"
      ]
    },
    {
      "cell_type": "markdown",
      "source": [
        "# Val mode is used for validating a YOLOv8 model after it has been trained. In this mode, the model is evaluated on a validation set to measure its accuracy and generalization performance. This mode can be used to tune the hyperparameters of the model to improve its performance."
      ],
      "metadata": {
        "id": "WKClDWJhjkWN"
      }
    },
    {
      "cell_type": "code",
      "source": [
        "# from ultralytics import YOLO\n",
        "\n",
        "# # Load a model\n",
        "# model = YOLO('yolov8n.pt')  # load an official model\n",
        "# model = YOLO('path/to/best.pt')  # load a custom model\n",
        "\n",
        "# # Validate the model\n",
        "# metrics = model.val()  # no arguments needed, dataset and settings remembered\n",
        "# metrics.box.map    # map50-95\n",
        "# metrics.box.map50  # map50\n",
        "# metrics.box.map75  # map75\n",
        "# metrics.box.maps   # a list contains map50-95 of each category"
      ],
      "metadata": {
        "id": "_1Bhyp8ai5bX"
      },
      "execution_count": null,
      "outputs": []
    },
    {
      "cell_type": "markdown",
      "source": [
        "YOLOv8 predict mode can generate predictions for various tasks, returning either a list of Results objects or a memory-efficient generator of Results objects when using the streaming mode. Enable streaming mode by passing stream=True in the predictor's call method."
      ],
      "metadata": {
        "id": "kaVHEMgajxsw"
      }
    },
    {
      "cell_type": "code",
      "source": [
        "# inputs = [img, img]  # list of numpy arrays\n",
        "# results = model(inputs)  # list of Results objects\n",
        "\n",
        "# for result in results:\n",
        "#     boxes = result.boxes  # Boxes object for bbox outputs\n",
        "#     masks = result.masks  # Masks object for segmentation masks outputs\n",
        "#     probs = result.probs  # Class probabilities for classification outputs\n",
        "# model.predict(source, save=True, imgsz=320, conf=0.5)"
      ],
      "metadata": {
        "id": "28mwy7lnjyeQ"
      },
      "execution_count": null,
      "outputs": []
    },
    {
      "cell_type": "markdown",
      "source": [
        "# Results"
      ],
      "metadata": {
        "id": "O-d2dsQvkN7I"
      }
    },
    {
      "cell_type": "code",
      "source": [
        "# results = results.cuda()\n",
        "# results = results.cpu()\n",
        "# results = results.to('cpu')\n",
        "# results = results.numpy()"
      ],
      "metadata": {
        "id": "AgqTkh3-kOeF"
      },
      "execution_count": null,
      "outputs": []
    },
    {
      "cell_type": "code",
      "source": [
        "# #Boxes Indexing a Boxes object returns a Boxes object:\n",
        "# results = model(img)\n",
        "# boxes = results[0].boxes\n",
        "# box = boxes[0]  # returns one box\n",
        "# box.xyxy\n",
        "\n",
        "# Properties and conversions\n",
        "# boxes.xyxy  # box with xyxy format, (N, 4)\n",
        "# boxes.xywh  # box with xywh format, (N, 4)\n",
        "# boxes.xyxyn  # box with xyxy format but normalized, (N, 4)\n",
        "# boxes.xywhn  # box with xywh format but normalized, (N, 4)\n",
        "# boxes.conf  # confidence score, (N, 1)\n",
        "# boxes.cls  # cls, (N, 1)\n",
        "# boxes.data  # raw bboxes tensor, (N, 6) or boxes.boxes"
      ],
      "metadata": {
        "id": "1V2u5UiFkYRr"
      },
      "execution_count": null,
      "outputs": []
    },
    {
      "cell_type": "markdown",
      "source": [
        "# Masks"
      ],
      "metadata": {
        "id": "-s3FCYylkp0g"
      }
    },
    {
      "cell_type": "code",
      "source": [
        "# results = model(inputs)\n",
        "# masks = results[0].masks  # Masks object\n",
        "# masks.xy  # x, y segments (pixels), List[segment] * N\n",
        "# masks.xyn  # x, y segments (normalized), List[segment] * N\n",
        "# masks.data  # raw masks tensor, (N, H, W) or masks.masks "
      ],
      "metadata": {
        "id": "Rt04n8AIkqPl"
      },
      "execution_count": null,
      "outputs": []
    },
    {
      "cell_type": "code",
      "source": [
        "# # probs\n",
        "# results = model(inputs)\n",
        "# results[0].probs  # cls prob, (num_class, ) "
      ],
      "metadata": {
        "id": "AzUIrdock1Ha"
      },
      "execution_count": null,
      "outputs": []
    },
    {
      "cell_type": "markdown",
      "source": [
        "# Plotting results"
      ],
      "metadata": {
        "id": "_FwWN5L8k9uD"
      }
    },
    {
      "cell_type": "code",
      "source": [
        "# res = model(img)\n",
        "# res_plotted = res[0].plot()\n",
        "# cv2.imshow(\"result\", res_plotted)"
      ],
      "metadata": {
        "id": "4-R26Y4ok-zE"
      },
      "execution_count": null,
      "outputs": []
    },
    {
      "cell_type": "markdown",
      "source": [
        "# Streaming Source for-loop\n",
        "Here's a Python script using OpenCV (cv2) and YOLOv8 to run inference on video frames. This script assumes you have already installed the necessary packages (opencv-python and ultralytics)."
      ],
      "metadata": {
        "id": "br4rNKaIlEV0"
      }
    },
    {
      "cell_type": "code",
      "source": [
        "# import cv2\n",
        "# from ultralytics import YOLO\n",
        "\n",
        "# # Load the YOLOv8 model\n",
        "# model = YOLO('yolov8n.pt')\n",
        "\n",
        "# # Open the video file\n",
        "# video_path = \"path/to/your/video/file.mp4\"\n",
        "# cap = cv2.VideoCapture(video_path)\n",
        "\n",
        "# # Loop through the video frames\n",
        "# while cap.isOpened():\n",
        "#     # Read a frame from the video\n",
        "#     success, frame = cap.read()\n",
        "\n",
        "#     if success:\n",
        "#         # Run YOLOv8 inference on the frame\n",
        "#         results = model(frame)\n",
        "\n",
        "#         # Visualize the results on the frame\n",
        "#         annotated_frame = results[0].plot()\n",
        "\n",
        "#         # Display the annotated frame\n",
        "#         cv2.imshow(\"YOLOv8 Inference\", annotated_frame)\n",
        "\n",
        "#         # Break the loop if 'q' is pressed\n",
        "#         if cv2.waitKey(1) & 0xFF == ord(\"q\"):\n",
        "#             break\n",
        "#     else:\n",
        "#         # Break the loop if the end of the video is reached\n",
        "#         break\n",
        "\n",
        "# # Release the video capture object and close the display window\n",
        "# cap.release()\n",
        "# cv2.destroyAllWindows()\n"
      ],
      "metadata": {
        "id": "TzCpz-zVlEw5"
      },
      "execution_count": null,
      "outputs": []
    },
    {
      "cell_type": "markdown",
      "source": [
        "# Export\n"
      ],
      "metadata": {
        "id": "DmEifFIulO0W"
      }
    },
    {
      "cell_type": "code",
      "source": [
        "from ultralytics import YOLO\n",
        "\n",
        "# Load a model\n",
        "model = YOLO('yolov8n.pt')  # load an official model\n",
        "model = YOLO('path/to/best.pt')  # load a custom trained\n",
        "\n",
        "# Export the model\n",
        "model.export(format='onnx')"
      ],
      "metadata": {
        "id": "MzFKae5OlPjq"
      },
      "execution_count": null,
      "outputs": []
    }
  ]
}